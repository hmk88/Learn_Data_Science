{
  "nbformat": 4,
  "nbformat_minor": 0,
  "metadata": {
    "colab": {
      "name": "Untitled0.ipynb",
      "provenance": [],
      "collapsed_sections": [],
      "include_colab_link": true
    },
    "kernelspec": {
      "name": "python3",
      "display_name": "Python 3"
    }
  },
  "cells": [
    {
      "cell_type": "markdown",
      "metadata": {
        "id": "view-in-github",
        "colab_type": "text"
      },
      "source": [
        "<a href=\"https://colab.research.google.com/github/hmk88/Learn_Data_Science/blob/master/Regression_examples.ipynb\" target=\"_parent\"><img src=\"https://colab.research.google.com/assets/colab-badge.svg\" alt=\"Open In Colab\"/></a>"
      ]
    },
    {
      "cell_type": "code",
      "metadata": {
        "id": "rjBOenmSttOd",
        "colab_type": "code",
        "colab": {}
      },
      "source": [
        "import pandas as pd\n",
        "url = 'https://raw.githubusercontent.com/hmk88/Jupyter-stuff/master/Helsinki_weather.csv'\n",
        "df1 = pd.read_csv(url)    #Air temperature"
      ],
      "execution_count": 0,
      "outputs": []
    },
    {
      "cell_type": "code",
      "metadata": {
        "id": "mmB4j6kbSCJZ",
        "colab_type": "code",
        "outputId": "71519026-d1df-4cdc-f4dd-98de963c1be6",
        "colab": {
          "base_uri": "https://localhost:8080/",
          "height": 35
        }
      },
      "source": [
        "df1.shape"
      ],
      "execution_count": 0,
      "outputs": [
        {
          "output_type": "execute_result",
          "data": {
            "text/plain": [
              "(8761, 2)"
            ]
          },
          "metadata": {
            "tags": []
          },
          "execution_count": 2
        }
      ]
    },
    {
      "cell_type": "code",
      "metadata": {
        "id": "qsc6DjJRokga",
        "colab_type": "code",
        "outputId": "d8fb5870-acca-40b9-f0dd-7d7cb0774be3",
        "colab": {
          "base_uri": "https://localhost:8080/",
          "height": 202
        }
      },
      "source": [
        "df1.head()"
      ],
      "execution_count": 0,
      "outputs": [
        {
          "output_type": "execute_result",
          "data": {
            "text/html": [
              "<div>\n",
              "<style scoped>\n",
              "    .dataframe tbody tr th:only-of-type {\n",
              "        vertical-align: middle;\n",
              "    }\n",
              "\n",
              "    .dataframe tbody tr th {\n",
              "        vertical-align: top;\n",
              "    }\n",
              "\n",
              "    .dataframe thead th {\n",
              "        text-align: right;\n",
              "    }\n",
              "</style>\n",
              "<table border=\"1\" class=\"dataframe\">\n",
              "  <thead>\n",
              "    <tr style=\"text-align: right;\">\n",
              "      <th></th>\n",
              "      <th>Time (h)</th>\n",
              "      <th>Air temperature (degC)</th>\n",
              "    </tr>\n",
              "  </thead>\n",
              "  <tbody>\n",
              "    <tr>\n",
              "      <th>0</th>\n",
              "      <td>1</td>\n",
              "      <td>9.0</td>\n",
              "    </tr>\n",
              "    <tr>\n",
              "      <th>1</th>\n",
              "      <td>2</td>\n",
              "      <td>8.8</td>\n",
              "    </tr>\n",
              "    <tr>\n",
              "      <th>2</th>\n",
              "      <td>3</td>\n",
              "      <td>9.0</td>\n",
              "    </tr>\n",
              "    <tr>\n",
              "      <th>3</th>\n",
              "      <td>4</td>\n",
              "      <td>9.2</td>\n",
              "    </tr>\n",
              "    <tr>\n",
              "      <th>4</th>\n",
              "      <td>5</td>\n",
              "      <td>8.8</td>\n",
              "    </tr>\n",
              "  </tbody>\n",
              "</table>\n",
              "</div>"
            ],
            "text/plain": [
              "   Time (h)   Air temperature (degC)\n",
              "0         1                      9.0\n",
              "1         2                      8.8\n",
              "2         3                      9.0\n",
              "3         4                      9.2\n",
              "4         5                      8.8"
            ]
          },
          "metadata": {
            "tags": []
          },
          "execution_count": 3
        }
      ]
    },
    {
      "cell_type": "code",
      "metadata": {
        "id": "dTFHQg0JpEz3",
        "colab_type": "code",
        "colab": {}
      },
      "source": [
        "df1= df1.drop('Time (h)', axis=1)"
      ],
      "execution_count": 0,
      "outputs": []
    },
    {
      "cell_type": "code",
      "metadata": {
        "id": "rCuPF9mcDGyN",
        "colab_type": "code",
        "colab": {}
      },
      "source": [
        "# Import libraries\n",
        "import numpy as np\n",
        "import seaborn as sns\n",
        "import matplotlib.pyplot as plt\n",
        "%matplotlib inline"
      ],
      "execution_count": 0,
      "outputs": []
    },
    {
      "cell_type": "code",
      "metadata": {
        "id": "TPDzxgJ_HhOV",
        "colab_type": "code",
        "colab": {}
      },
      "source": [
        "url = 'https://raw.githubusercontent.com/hmk88/Jupyter-stuff/master/as.csv'\n",
        "df2 = pd.read_csv(url)    #Average surface temperature"
      ],
      "execution_count": 0,
      "outputs": []
    },
    {
      "cell_type": "code",
      "metadata": {
        "id": "3I0TWz3FQYSS",
        "colab_type": "code",
        "colab": {}
      },
      "source": [
        "df2= df2.drop('Time (h)', axis=1)"
      ],
      "execution_count": 0,
      "outputs": []
    },
    {
      "cell_type": "code",
      "metadata": {
        "id": "72j2gktiQbSh",
        "colab_type": "code",
        "colab": {}
      },
      "source": [
        "url = 'https://raw.githubusercontent.com/hmk88/Jupyter-stuff/master/ca.csv'\n",
        "df3 = pd.read_csv(url)    #Heat capacity"
      ],
      "execution_count": 0,
      "outputs": []
    },
    {
      "cell_type": "code",
      "metadata": {
        "id": "MnRuuLagUDXU",
        "colab_type": "code",
        "colab": {}
      },
      "source": [
        "df3= df3.drop(' Time (h)', axis=1)"
      ],
      "execution_count": 0,
      "outputs": []
    },
    {
      "cell_type": "code",
      "metadata": {
        "id": "eiaf7lo7RGq8",
        "colab_type": "code",
        "colab": {}
      },
      "source": [
        "url = 'https://raw.githubusercontent.com/hmk88/Jupyter-stuff/master/co.csv'\n",
        "df4 = pd.read_csv(url)    #Thermal conductivity"
      ],
      "execution_count": 0,
      "outputs": []
    },
    {
      "cell_type": "code",
      "metadata": {
        "id": "x4DfTtlHV7g8",
        "colab_type": "code",
        "colab": {}
      },
      "source": [
        "df4= df4.drop('Time (h)', axis=1)"
      ],
      "execution_count": 0,
      "outputs": []
    },
    {
      "cell_type": "code",
      "metadata": {
        "id": "ZErme0I7SQIi",
        "colab_type": "code",
        "colab": {}
      },
      "source": [
        "url = 'https://raw.githubusercontent.com/hmk88/Jupyter-stuff/master/de.csv'\n",
        "df5 = pd.read_csv(url)    #Density"
      ],
      "execution_count": 0,
      "outputs": []
    },
    {
      "cell_type": "code",
      "metadata": {
        "id": "pV-IP_x0lxjk",
        "colab_type": "code",
        "colab": {}
      },
      "source": [
        "df5= df5.drop('Time (h)', axis=1)"
      ],
      "execution_count": 0,
      "outputs": []
    },
    {
      "cell_type": "code",
      "metadata": {
        "id": "9YwqWNlRSZje",
        "colab_type": "code",
        "colab": {}
      },
      "source": [
        "url = 'https://raw.githubusercontent.com/hmk88/Jupyter-stuff/master/di.csv'\n",
        "df6 = pd.read_csv(url)    #Diffusivity"
      ],
      "execution_count": 0,
      "outputs": []
    },
    {
      "cell_type": "code",
      "metadata": {
        "id": "9JNSQsCSl3Rs",
        "colab_type": "code",
        "colab": {}
      },
      "source": [
        "df6= df6.drop('Time (h)', axis=1)"
      ],
      "execution_count": 0,
      "outputs": []
    },
    {
      "cell_type": "code",
      "metadata": {
        "id": "y0GYjZMpSkPf",
        "colab_type": "code",
        "colab": {}
      },
      "source": [
        "url = 'https://raw.githubusercontent.com/hmk88/Jupyter-stuff/master/fl.csv'\n",
        "df7 = pd.read_csv(url)    #Fluid temperature"
      ],
      "execution_count": 0,
      "outputs": []
    },
    {
      "cell_type": "code",
      "metadata": {
        "id": "ss2LSEaWmRc9",
        "colab_type": "code",
        "colab": {}
      },
      "source": [
        "df7= df7.drop('Time (h)', axis=1)"
      ],
      "execution_count": 0,
      "outputs": []
    },
    {
      "cell_type": "code",
      "metadata": {
        "id": "Bw190YE1oH_c",
        "colab_type": "code",
        "outputId": "807f9471-b9d9-453f-8ff5-8a0caf3e6420",
        "colab": {
          "base_uri": "https://localhost:8080/",
          "height": 239
        }
      },
      "source": [
        "df7.head()"
      ],
      "execution_count": 0,
      "outputs": [
        {
          "output_type": "execute_result",
          "data": {
            "text/html": [
              "<div>\n",
              "<style scoped>\n",
              "    .dataframe tbody tr th:only-of-type {\n",
              "        vertical-align: middle;\n",
              "    }\n",
              "\n",
              "    .dataframe tbody tr th {\n",
              "        vertical-align: top;\n",
              "    }\n",
              "\n",
              "    .dataframe thead th {\n",
              "        text-align: right;\n",
              "    }\n",
              "</style>\n",
              "<table border=\"1\" class=\"dataframe\">\n",
              "  <thead>\n",
              "    <tr style=\"text-align: right;\">\n",
              "      <th></th>\n",
              "      <th>Temperature1 (degC)</th>\n",
              "      <th>Temperature2 (degC)</th>\n",
              "      <th>Temperature3 (degC)</th>\n",
              "      <th>Temperature4 (degC)</th>\n",
              "      <th>Temperature5 (degC)</th>\n",
              "      <th>Temperature6 (degC)</th>\n",
              "      <th>Temperature7 (degC)</th>\n",
              "      <th>Temperature8 (degC)</th>\n",
              "      <th>Temperature9 (degC)</th>\n",
              "      <th>Temperature10 (degC)</th>\n",
              "      <th>Temperature11 (degC)</th>\n",
              "      <th>Temperature12 (degC)</th>\n",
              "      <th>Temperature13 (degC)</th>\n",
              "      <th></th>\n",
              "    </tr>\n",
              "  </thead>\n",
              "  <tbody>\n",
              "    <tr>\n",
              "      <th>0</th>\n",
              "      <td>8.000000</td>\n",
              "      <td>8.000000</td>\n",
              "      <td>7.999998</td>\n",
              "      <td>8.000000</td>\n",
              "      <td>8.000000</td>\n",
              "      <td>7.999955</td>\n",
              "      <td>8.000000</td>\n",
              "      <td>8.000000</td>\n",
              "      <td>8.000000</td>\n",
              "      <td>8.000000</td>\n",
              "      <td>8.000000</td>\n",
              "      <td>8.000000</td>\n",
              "      <td>8.000000</td>\n",
              "      <td>NaN</td>\n",
              "    </tr>\n",
              "    <tr>\n",
              "      <th>1</th>\n",
              "      <td>8.180224</td>\n",
              "      <td>8.063855</td>\n",
              "      <td>8.476197</td>\n",
              "      <td>8.420984</td>\n",
              "      <td>8.071582</td>\n",
              "      <td>10.269369</td>\n",
              "      <td>8.046160</td>\n",
              "      <td>8.585082</td>\n",
              "      <td>8.551559</td>\n",
              "      <td>8.794622</td>\n",
              "      <td>8.107664</td>\n",
              "      <td>8.165361</td>\n",
              "      <td>8.249631</td>\n",
              "      <td>NaN</td>\n",
              "    </tr>\n",
              "    <tr>\n",
              "      <th>2</th>\n",
              "      <td>8.800367</td>\n",
              "      <td>8.319637</td>\n",
              "      <td>9.203323</td>\n",
              "      <td>9.066984</td>\n",
              "      <td>8.310744</td>\n",
              "      <td>11.524854</td>\n",
              "      <td>8.217538</td>\n",
              "      <td>9.393907</td>\n",
              "      <td>9.344978</td>\n",
              "      <td>9.818592</td>\n",
              "      <td>8.471061</td>\n",
              "      <td>8.702864</td>\n",
              "      <td>9.019424</td>\n",
              "      <td>NaN</td>\n",
              "    </tr>\n",
              "    <tr>\n",
              "      <th>3</th>\n",
              "      <td>9.571085</td>\n",
              "      <td>8.686146</td>\n",
              "      <td>9.847297</td>\n",
              "      <td>9.656515</td>\n",
              "      <td>8.624866</td>\n",
              "      <td>12.552141</td>\n",
              "      <td>8.461217</td>\n",
              "      <td>10.044680</td>\n",
              "      <td>10.042028</td>\n",
              "      <td>10.646885</td>\n",
              "      <td>8.940372</td>\n",
              "      <td>9.355491</td>\n",
              "      <td>9.901447</td>\n",
              "      <td>NaN</td>\n",
              "    </tr>\n",
              "    <tr>\n",
              "      <th>4</th>\n",
              "      <td>10.181274</td>\n",
              "      <td>9.013412</td>\n",
              "      <td>10.377774</td>\n",
              "      <td>10.162728</td>\n",
              "      <td>8.908517</td>\n",
              "      <td>13.374338</td>\n",
              "      <td>8.689199</td>\n",
              "      <td>10.592157</td>\n",
              "      <td>10.628046</td>\n",
              "      <td>11.318392</td>\n",
              "      <td>9.344505</td>\n",
              "      <td>9.877154</td>\n",
              "      <td>10.572640</td>\n",
              "      <td>NaN</td>\n",
              "    </tr>\n",
              "  </tbody>\n",
              "</table>\n",
              "</div>"
            ],
            "text/plain": [
              "   Temperature1 (degC)   Temperature2 (degC)  ...   Temperature13 (degC)    \n",
              "0             8.000000              8.000000  ...               8.000000 NaN\n",
              "1             8.180224              8.063855  ...               8.249631 NaN\n",
              "2             8.800367              8.319637  ...               9.019424 NaN\n",
              "3             9.571085              8.686146  ...               9.901447 NaN\n",
              "4            10.181274              9.013412  ...              10.572640 NaN\n",
              "\n",
              "[5 rows x 14 columns]"
            ]
          },
          "metadata": {
            "tags": []
          },
          "execution_count": 19
        }
      ]
    },
    {
      "cell_type": "code",
      "metadata": {
        "id": "ah0SGl1qSxGF",
        "colab_type": "code",
        "colab": {}
      },
      "source": [
        "df_raw = pd.concat([df1,df2,df3,df4,df5,df6,df7], axis=1) # Save original data set, just in case.\n"
      ],
      "execution_count": 0,
      "outputs": []
    },
    {
      "cell_type": "code",
      "metadata": {
        "id": "lFxp8lKGn93F",
        "colab_type": "code",
        "outputId": "b4a6e0f5-fa88-4bae-f0fa-aafa6cf1b13f",
        "colab": {
          "base_uri": "https://localhost:8080/",
          "height": 395
        }
      },
      "source": [
        "df_raw.head()"
      ],
      "execution_count": 0,
      "outputs": [
        {
          "output_type": "execute_result",
          "data": {
            "text/html": [
              "<div>\n",
              "<style scoped>\n",
              "    .dataframe tbody tr th:only-of-type {\n",
              "        vertical-align: middle;\n",
              "    }\n",
              "\n",
              "    .dataframe tbody tr th {\n",
              "        vertical-align: top;\n",
              "    }\n",
              "\n",
              "    .dataframe thead th {\n",
              "        text-align: right;\n",
              "    }\n",
              "</style>\n",
              "<table border=\"1\" class=\"dataframe\">\n",
              "  <thead>\n",
              "    <tr style=\"text-align: right;\">\n",
              "      <th></th>\n",
              "      <th>Air temperature (degC)</th>\n",
              "      <th>Temperature (degC)</th>\n",
              "      <th>Heat capacity at constant pressure (J/(kg*K))</th>\n",
              "      <th>Thermal conductivity (W/(m*K))</th>\n",
              "      <th>Density (kg/m^3)</th>\n",
              "      <th>Thermal diffusivity (m^2/s)</th>\n",
              "      <th>Temperature1 (degC)</th>\n",
              "      <th>Temperature2 (degC)</th>\n",
              "      <th>Temperature3 (degC)</th>\n",
              "      <th>Temperature4 (degC)</th>\n",
              "      <th>Temperature5 (degC)</th>\n",
              "      <th>Temperature6 (degC)</th>\n",
              "      <th>Temperature7 (degC)</th>\n",
              "      <th>Temperature8 (degC)</th>\n",
              "      <th>Temperature9 (degC)</th>\n",
              "      <th>Temperature10 (degC)</th>\n",
              "      <th>Temperature11 (degC)</th>\n",
              "      <th>Temperature12 (degC)</th>\n",
              "      <th>Temperature13 (degC)</th>\n",
              "      <th></th>\n",
              "    </tr>\n",
              "  </thead>\n",
              "  <tbody>\n",
              "    <tr>\n",
              "      <th>0</th>\n",
              "      <td>9.0</td>\n",
              "      <td>7.999996</td>\n",
              "      <td>3200.0</td>\n",
              "      <td>2.7</td>\n",
              "      <td>850.0</td>\n",
              "      <td>9.926471e-07</td>\n",
              "      <td>8.000000</td>\n",
              "      <td>8.000000</td>\n",
              "      <td>7.999998</td>\n",
              "      <td>8.000000</td>\n",
              "      <td>8.000000</td>\n",
              "      <td>7.999955</td>\n",
              "      <td>8.000000</td>\n",
              "      <td>8.000000</td>\n",
              "      <td>8.000000</td>\n",
              "      <td>8.000000</td>\n",
              "      <td>8.000000</td>\n",
              "      <td>8.000000</td>\n",
              "      <td>8.000000</td>\n",
              "      <td>NaN</td>\n",
              "    </tr>\n",
              "    <tr>\n",
              "      <th>1</th>\n",
              "      <td>8.8</td>\n",
              "      <td>8.007542</td>\n",
              "      <td>3200.0</td>\n",
              "      <td>2.7</td>\n",
              "      <td>850.0</td>\n",
              "      <td>9.926471e-07</td>\n",
              "      <td>8.180224</td>\n",
              "      <td>8.063855</td>\n",
              "      <td>8.476197</td>\n",
              "      <td>8.420984</td>\n",
              "      <td>8.071582</td>\n",
              "      <td>10.269369</td>\n",
              "      <td>8.046160</td>\n",
              "      <td>8.585082</td>\n",
              "      <td>8.551559</td>\n",
              "      <td>8.794622</td>\n",
              "      <td>8.107664</td>\n",
              "      <td>8.165361</td>\n",
              "      <td>8.249631</td>\n",
              "      <td>NaN</td>\n",
              "    </tr>\n",
              "    <tr>\n",
              "      <th>2</th>\n",
              "      <td>9.0</td>\n",
              "      <td>8.020154</td>\n",
              "      <td>3200.0</td>\n",
              "      <td>2.7</td>\n",
              "      <td>850.0</td>\n",
              "      <td>9.926471e-07</td>\n",
              "      <td>8.800367</td>\n",
              "      <td>8.319637</td>\n",
              "      <td>9.203323</td>\n",
              "      <td>9.066984</td>\n",
              "      <td>8.310744</td>\n",
              "      <td>11.524854</td>\n",
              "      <td>8.217538</td>\n",
              "      <td>9.393907</td>\n",
              "      <td>9.344978</td>\n",
              "      <td>9.818592</td>\n",
              "      <td>8.471061</td>\n",
              "      <td>8.702864</td>\n",
              "      <td>9.019424</td>\n",
              "      <td>NaN</td>\n",
              "    </tr>\n",
              "    <tr>\n",
              "      <th>3</th>\n",
              "      <td>9.2</td>\n",
              "      <td>8.035306</td>\n",
              "      <td>3200.0</td>\n",
              "      <td>2.7</td>\n",
              "      <td>850.0</td>\n",
              "      <td>9.926471e-07</td>\n",
              "      <td>9.571085</td>\n",
              "      <td>8.686146</td>\n",
              "      <td>9.847297</td>\n",
              "      <td>9.656515</td>\n",
              "      <td>8.624866</td>\n",
              "      <td>12.552141</td>\n",
              "      <td>8.461217</td>\n",
              "      <td>10.044680</td>\n",
              "      <td>10.042028</td>\n",
              "      <td>10.646885</td>\n",
              "      <td>8.940372</td>\n",
              "      <td>9.355491</td>\n",
              "      <td>9.901447</td>\n",
              "      <td>NaN</td>\n",
              "    </tr>\n",
              "    <tr>\n",
              "      <th>4</th>\n",
              "      <td>8.8</td>\n",
              "      <td>8.050804</td>\n",
              "      <td>3200.0</td>\n",
              "      <td>2.7</td>\n",
              "      <td>850.0</td>\n",
              "      <td>9.926471e-07</td>\n",
              "      <td>10.181274</td>\n",
              "      <td>9.013412</td>\n",
              "      <td>10.377774</td>\n",
              "      <td>10.162728</td>\n",
              "      <td>8.908517</td>\n",
              "      <td>13.374338</td>\n",
              "      <td>8.689199</td>\n",
              "      <td>10.592157</td>\n",
              "      <td>10.628046</td>\n",
              "      <td>11.318392</td>\n",
              "      <td>9.344505</td>\n",
              "      <td>9.877154</td>\n",
              "      <td>10.572640</td>\n",
              "      <td>NaN</td>\n",
              "    </tr>\n",
              "  </tbody>\n",
              "</table>\n",
              "</div>"
            ],
            "text/plain": [
              "    Air temperature (degC)  Temperature (degC)  ...   Temperature13 (degC)    \n",
              "0                      9.0            7.999996  ...               8.000000 NaN\n",
              "1                      8.8            8.007542  ...               8.249631 NaN\n",
              "2                      9.0            8.020154  ...               9.019424 NaN\n",
              "3                      9.2            8.035306  ...               9.901447 NaN\n",
              "4                      8.8            8.050804  ...              10.572640 NaN\n",
              "\n",
              "[5 rows x 20 columns]"
            ]
          },
          "metadata": {
            "tags": []
          },
          "execution_count": 21
        }
      ]
    },
    {
      "cell_type": "code",
      "metadata": {
        "id": "AL1pr4IGn_hd",
        "colab_type": "code",
        "colab": {}
      },
      "source": [
        "df_raw= df_raw.dropna(how='all', axis='columns')\n",
        "\n"
      ],
      "execution_count": 0,
      "outputs": []
    },
    {
      "cell_type": "code",
      "metadata": {
        "id": "x_Xah7MTTk25",
        "colab_type": "code",
        "colab": {}
      },
      "source": [
        "df_raw.dropna(inplace=True)"
      ],
      "execution_count": 0,
      "outputs": []
    },
    {
      "cell_type": "code",
      "metadata": {
        "id": "pL_afmhfseXZ",
        "colab_type": "code",
        "outputId": "d589d944-cdef-4291-94e8-e08ad1257a80",
        "colab": {
          "base_uri": "https://localhost:8080/",
          "height": 395
        }
      },
      "source": [
        "df_raw.head()"
      ],
      "execution_count": 0,
      "outputs": [
        {
          "output_type": "execute_result",
          "data": {
            "text/html": [
              "<div>\n",
              "<style scoped>\n",
              "    .dataframe tbody tr th:only-of-type {\n",
              "        vertical-align: middle;\n",
              "    }\n",
              "\n",
              "    .dataframe tbody tr th {\n",
              "        vertical-align: top;\n",
              "    }\n",
              "\n",
              "    .dataframe thead th {\n",
              "        text-align: right;\n",
              "    }\n",
              "</style>\n",
              "<table border=\"1\" class=\"dataframe\">\n",
              "  <thead>\n",
              "    <tr style=\"text-align: right;\">\n",
              "      <th></th>\n",
              "      <th>Air temperature (degC)</th>\n",
              "      <th>Temperature (degC)</th>\n",
              "      <th>Heat capacity at constant pressure (J/(kg*K))</th>\n",
              "      <th>Thermal conductivity (W/(m*K))</th>\n",
              "      <th>Density (kg/m^3)</th>\n",
              "      <th>Thermal diffusivity (m^2/s)</th>\n",
              "      <th>Temperature1 (degC)</th>\n",
              "      <th>Temperature2 (degC)</th>\n",
              "      <th>Temperature3 (degC)</th>\n",
              "      <th>Temperature4 (degC)</th>\n",
              "      <th>Temperature5 (degC)</th>\n",
              "      <th>Temperature6 (degC)</th>\n",
              "      <th>Temperature7 (degC)</th>\n",
              "      <th>Temperature8 (degC)</th>\n",
              "      <th>Temperature9 (degC)</th>\n",
              "      <th>Temperature10 (degC)</th>\n",
              "      <th>Temperature11 (degC)</th>\n",
              "      <th>Temperature12 (degC)</th>\n",
              "      <th>Temperature13 (degC)</th>\n",
              "    </tr>\n",
              "  </thead>\n",
              "  <tbody>\n",
              "    <tr>\n",
              "      <th>0</th>\n",
              "      <td>9.0</td>\n",
              "      <td>7.999996</td>\n",
              "      <td>3200.0</td>\n",
              "      <td>2.7</td>\n",
              "      <td>850.0</td>\n",
              "      <td>9.926471e-07</td>\n",
              "      <td>8.000000</td>\n",
              "      <td>8.000000</td>\n",
              "      <td>7.999998</td>\n",
              "      <td>8.000000</td>\n",
              "      <td>8.000000</td>\n",
              "      <td>7.999955</td>\n",
              "      <td>8.000000</td>\n",
              "      <td>8.000000</td>\n",
              "      <td>8.000000</td>\n",
              "      <td>8.000000</td>\n",
              "      <td>8.000000</td>\n",
              "      <td>8.000000</td>\n",
              "      <td>8.000000</td>\n",
              "    </tr>\n",
              "    <tr>\n",
              "      <th>1</th>\n",
              "      <td>8.8</td>\n",
              "      <td>8.007542</td>\n",
              "      <td>3200.0</td>\n",
              "      <td>2.7</td>\n",
              "      <td>850.0</td>\n",
              "      <td>9.926471e-07</td>\n",
              "      <td>8.180224</td>\n",
              "      <td>8.063855</td>\n",
              "      <td>8.476197</td>\n",
              "      <td>8.420984</td>\n",
              "      <td>8.071582</td>\n",
              "      <td>10.269369</td>\n",
              "      <td>8.046160</td>\n",
              "      <td>8.585082</td>\n",
              "      <td>8.551559</td>\n",
              "      <td>8.794622</td>\n",
              "      <td>8.107664</td>\n",
              "      <td>8.165361</td>\n",
              "      <td>8.249631</td>\n",
              "    </tr>\n",
              "    <tr>\n",
              "      <th>2</th>\n",
              "      <td>9.0</td>\n",
              "      <td>8.020154</td>\n",
              "      <td>3200.0</td>\n",
              "      <td>2.7</td>\n",
              "      <td>850.0</td>\n",
              "      <td>9.926471e-07</td>\n",
              "      <td>8.800367</td>\n",
              "      <td>8.319637</td>\n",
              "      <td>9.203323</td>\n",
              "      <td>9.066984</td>\n",
              "      <td>8.310744</td>\n",
              "      <td>11.524854</td>\n",
              "      <td>8.217538</td>\n",
              "      <td>9.393907</td>\n",
              "      <td>9.344978</td>\n",
              "      <td>9.818592</td>\n",
              "      <td>8.471061</td>\n",
              "      <td>8.702864</td>\n",
              "      <td>9.019424</td>\n",
              "    </tr>\n",
              "    <tr>\n",
              "      <th>3</th>\n",
              "      <td>9.2</td>\n",
              "      <td>8.035306</td>\n",
              "      <td>3200.0</td>\n",
              "      <td>2.7</td>\n",
              "      <td>850.0</td>\n",
              "      <td>9.926471e-07</td>\n",
              "      <td>9.571085</td>\n",
              "      <td>8.686146</td>\n",
              "      <td>9.847297</td>\n",
              "      <td>9.656515</td>\n",
              "      <td>8.624866</td>\n",
              "      <td>12.552141</td>\n",
              "      <td>8.461217</td>\n",
              "      <td>10.044680</td>\n",
              "      <td>10.042028</td>\n",
              "      <td>10.646885</td>\n",
              "      <td>8.940372</td>\n",
              "      <td>9.355491</td>\n",
              "      <td>9.901447</td>\n",
              "    </tr>\n",
              "    <tr>\n",
              "      <th>4</th>\n",
              "      <td>8.8</td>\n",
              "      <td>8.050804</td>\n",
              "      <td>3200.0</td>\n",
              "      <td>2.7</td>\n",
              "      <td>850.0</td>\n",
              "      <td>9.926471e-07</td>\n",
              "      <td>10.181274</td>\n",
              "      <td>9.013412</td>\n",
              "      <td>10.377774</td>\n",
              "      <td>10.162728</td>\n",
              "      <td>8.908517</td>\n",
              "      <td>13.374338</td>\n",
              "      <td>8.689199</td>\n",
              "      <td>10.592157</td>\n",
              "      <td>10.628046</td>\n",
              "      <td>11.318392</td>\n",
              "      <td>9.344505</td>\n",
              "      <td>9.877154</td>\n",
              "      <td>10.572640</td>\n",
              "    </tr>\n",
              "  </tbody>\n",
              "</table>\n",
              "</div>"
            ],
            "text/plain": [
              "    Air temperature (degC)  ...   Temperature13 (degC)\n",
              "0                      9.0  ...               8.000000\n",
              "1                      8.8  ...               8.249631\n",
              "2                      9.0  ...               9.019424\n",
              "3                      9.2  ...               9.901447\n",
              "4                      8.8  ...              10.572640\n",
              "\n",
              "[5 rows x 19 columns]"
            ]
          },
          "metadata": {
            "tags": []
          },
          "execution_count": 24
        }
      ]
    },
    {
      "cell_type": "code",
      "metadata": {
        "id": "aMUFwRPVEwV_",
        "colab_type": "code",
        "colab": {}
      },
      "source": [
        "source= df_raw.drop('Temperature (degC)', axis=1)"
      ],
      "execution_count": 0,
      "outputs": []
    },
    {
      "cell_type": "code",
      "metadata": {
        "id": "QEYFtySiFWDo",
        "colab_type": "code",
        "colab": {}
      },
      "source": [
        "target= df_raw['Temperature (degC)']"
      ],
      "execution_count": 0,
      "outputs": []
    },
    {
      "cell_type": "code",
      "metadata": {
        "id": "BJm2ydT1NFzR",
        "colab_type": "code",
        "colab": {}
      },
      "source": [
        "import numpy as np\n",
        "#from sklearn.preprocessing import normalize\n",
        "\n",
        "X= np.array(source)\n",
        "y= np.array(target) \n",
        "\n",
        "#X = normalize(X, axis=0, norm='max')\n",
        "#y = normalize(y.reshape(-1,1), axis=0, norm='max')\n"
      ],
      "execution_count": 0,
      "outputs": []
    },
    {
      "cell_type": "code",
      "metadata": {
        "id": "dApD24wCOcVM",
        "colab_type": "code",
        "outputId": "8c561d2f-8e42-46d8-ca04-98c3819fda27",
        "colab": {
          "base_uri": "https://localhost:8080/",
          "height": 35
        }
      },
      "source": [
        "y.shape"
      ],
      "execution_count": 0,
      "outputs": [
        {
          "output_type": "execute_result",
          "data": {
            "text/plain": [
              "(8606,)"
            ]
          },
          "metadata": {
            "tags": []
          },
          "execution_count": 30
        }
      ]
    },
    {
      "cell_type": "code",
      "metadata": {
        "id": "eIGX_GmJXkWU",
        "colab_type": "code",
        "outputId": "e7fc5116-909d-45aa-d865-2d883cb3c59a",
        "colab": {
          "base_uri": "https://localhost:8080/",
          "height": 52
        }
      },
      "source": [
        "from sklearn.model_selection import train_test_split\n",
        "X_train, X_test, y_train, y_test = train_test_split(X, y, test_size=0.2)\n",
        "print (X_train.shape, y_train.shape)\n",
        "print (X_test.shape, y_test.shape)"
      ],
      "execution_count": 0,
      "outputs": [
        {
          "output_type": "stream",
          "text": [
            "(6884, 18) (6884,)\n",
            "(1722, 18) (1722,)\n"
          ],
          "name": "stdout"
        }
      ]
    },
    {
      "cell_type": "code",
      "metadata": {
        "id": "U9c388AyR_AY",
        "colab_type": "code",
        "colab": {}
      },
      "source": [
        "from sklearn.svm import SVR\n",
        "svr_rbf = SVR(kernel='rbf', C=100, gamma=0.1, epsilon=.1)\n",
        "result=svr_rbf.fit(X_train, y_train)"
      ],
      "execution_count": 0,
      "outputs": []
    },
    {
      "cell_type": "code",
      "metadata": {
        "id": "OtHloWooTK1G",
        "colab_type": "code",
        "colab": {}
      },
      "source": [
        "prediction=svr_rbf.predict(X_test)"
      ],
      "execution_count": 0,
      "outputs": []
    },
    {
      "cell_type": "code",
      "metadata": {
        "id": "YUYZRTcZYqJn",
        "colab_type": "code",
        "outputId": "0befacec-2e91-420f-db2c-5318bf12d99e",
        "colab": {
          "base_uri": "https://localhost:8080/",
          "height": 313
        }
      },
      "source": [
        "from matplotlib import pyplot as plt\n",
        "plt.scatter(y_test, prediction, c='g')\n",
        "plt.xlabel('Average surface temperature')\n",
        "plt.ylabel('Predicted surface temperature')\n",
        "plt.title('SVR')\n"
      ],
      "execution_count": 0,
      "outputs": [
        {
          "output_type": "execute_result",
          "data": {
            "text/plain": [
              "Text(0.5, 1.0, 'SVR')"
            ]
          },
          "metadata": {
            "tags": []
          },
          "execution_count": 50
        },
        {
          "output_type": "display_data",
          "data": {
            "image/png": "[encoded data removed]",
            "text/plain": [
              "<Figure size 432x288 with 1 Axes>"
            ]
          },
          "metadata": {
            "tags": []
          }
        }
      ]
    },
    {
      "cell_type": "code",
      "metadata": {
        "id": "E_oqWwS1ZkEg",
        "colab_type": "code",
        "outputId": "a1484c70-f956-4d07-d6f3-884597e9c3c9",
        "colab": {
          "base_uri": "https://localhost:8080/",
          "height": 35
        }
      },
      "source": [
        "svr_rbf.score(X_test, y_test)"
      ],
      "execution_count": 0,
      "outputs": [
        {
          "output_type": "execute_result",
          "data": {
            "text/plain": [
              "0.9997928583386524"
            ]
          },
          "metadata": {
            "tags": []
          },
          "execution_count": 41
        }
      ]
    },
    {
      "cell_type": "code",
      "metadata": {
        "id": "G2qPpCaouNqW",
        "colab_type": "code",
        "outputId": "b0e53781-ab8d-43b7-ce63-e559fb96ef2a",
        "colab": {
          "base_uri": "https://localhost:8080/",
          "height": 69
        }
      },
      "source": [
        "from sklearn import metrics\n",
        "\n",
        "#MAE\n",
        "print(metrics.mean_absolute_error(y_test, prediction))\n",
        "\n",
        "#MSE\n",
        "print(metrics.mean_squared_error(y_test, prediction))\n",
        "\n",
        "#RMSE\n",
        "print(np.sqrt(metrics.mean_squared_error(y_test, prediction)))"
      ],
      "execution_count": 0,
      "outputs": [
        {
          "output_type": "stream",
          "text": [
            "0.06248601310169894\n",
            "0.010097676339409807\n",
            "0.10048719490268304\n"
          ],
          "name": "stdout"
        }
      ]
    },
    {
      "cell_type": "code",
      "metadata": {
        "id": "RoVaDKGtscAc",
        "colab_type": "code",
        "colab": {}
      },
      "source": [
        ""
      ],
      "execution_count": 0,
      "outputs": []
    },
    {
      "cell_type": "code",
      "metadata": {
        "id": "vit5GZdvrXak",
        "colab_type": "code",
        "outputId": "7c560623-7345-4c0c-ae2e-e8e78e73baa1",
        "colab": {
          "base_uri": "https://localhost:8080/",
          "height": 313
        }
      },
      "source": [
        "from matplotlib import pyplot as plt\n",
        "t=range(0,1722)\n",
        "plt.plot(t, y_test, 'bs', t, prediction, 'g^')\n",
        "plt.xlabel('Time (h)')\n",
        "plt.ylabel('Surface temperature')\n",
        "plt.title('SVR')\n",
        "plt.legend(['True value', 'Prediction'])"
      ],
      "execution_count": 0,
      "outputs": [
        {
          "output_type": "execute_result",
          "data": {
            "text/plain": [
              "<matplotlib.legend.Legend at 0x7f3cc2b4e908>"
            ]
          },
          "metadata": {
            "tags": []
          },
          "execution_count": 53
        },
        {
          "output_type": "display_data",
          "data": {
            "image/png": "[encoded data removed]",
            "text/plain": [
              "<Figure size 432x288 with 1 Axes>"
            ]
          },
          "metadata": {
            "tags": []
          }
        }
      ]
    },
    {
      "cell_type": "code",
      "metadata": {
        "id": "pCmvj76k4hQA",
        "colab_type": "code",
        "colab": {}
      },
      "source": [
        "from sklearn.ensemble import AdaBoostRegressor\n",
        "\n",
        "model_ada=AdaBoostRegressor(n_estimators=100)\n",
        "fit=model_ada.fit(X_train, y_train)"
      ],
      "execution_count": 0,
      "outputs": []
    },
    {
      "cell_type": "code",
      "metadata": {
        "id": "hs2TUouu48NZ",
        "colab_type": "code",
        "colab": {}
      },
      "source": [
        "prediction_ada=model_ada.predict(X_test)"
      ],
      "execution_count": 0,
      "outputs": []
    },
    {
      "cell_type": "code",
      "metadata": {
        "id": "MbC7rVow5Rnk",
        "colab_type": "code",
        "colab": {}
      },
      "source": [
        "from matplotlib import pyplot as plt\n",
        "plt.plot(t, y_test, 'bs', t, prediction_ada, 'g^')\n",
        "plt.xlabel('Samples')\n",
        "plt.ylabel('prediction')\n",
        "plt.title('adaBoost')\n"
      ],
      "execution_count": 0,
      "outputs": []
    },
    {
      "cell_type": "code",
      "metadata": {
        "id": "U8KJ8LHf5uq4",
        "colab_type": "code",
        "colab": {}
      },
      "source": [
        "Data= [prediction_ada, y_test]"
      ],
      "execution_count": 0,
      "outputs": []
    },
    {
      "cell_type": "code",
      "metadata": {
        "id": "rja2Kzb451n5",
        "colab_type": "code",
        "colab": {}
      },
      "source": [
        "Data=pd.DataFrame(Data)\n",
        "Data=Data.T\n",
        "Data"
      ],
      "execution_count": 0,
      "outputs": []
    },
    {
      "cell_type": "code",
      "metadata": {
        "id": "wQidQHBE6AwG",
        "colab_type": "code",
        "colab": {}
      },
      "source": [
        "Data.to_csv('ada_boost.csv') \n",
        "files.download('ada_boost.csv')"
      ],
      "execution_count": 0,
      "outputs": []
    },
    {
      "cell_type": "code",
      "metadata": {
        "id": "Y-ekEPCf6PiI",
        "colab_type": "code",
        "colab": {}
      },
      "source": [
        "#MAE\n",
        "print(metrics.mean_absolute_error(y_test, prediction_ada))\n",
        "\n",
        "#MSE\n",
        "print(metrics.mean_squared_error(y_test, prediction_ada))\n",
        "\n",
        "#RMSE\n",
        "print(np.sqrt(metrics.mean_squared_error(y_test, prediction_ada)))"
      ],
      "execution_count": 0,
      "outputs": []
    },
    {
      "cell_type": "code",
      "metadata": {
        "id": "jBCQ00eu7g7M",
        "colab_type": "code",
        "colab": {}
      },
      "source": [
        "model_ada.score(X_test, y_test)"
      ],
      "execution_count": 0,
      "outputs": []
    },
    {
      "cell_type": "code",
      "metadata": {
        "id": "I8q6bMuo7m2h",
        "colab_type": "code",
        "colab": {}
      },
      "source": [
        "from sklearn.linear_model import LinearRegression\n",
        "\n",
        "model_LR = LinearRegression()\n",
        "fit=model_LR.fit(X_train, y_train)"
      ],
      "execution_count": 0,
      "outputs": []
    },
    {
      "cell_type": "code",
      "metadata": {
        "id": "3yNILk49fxCm",
        "colab_type": "code",
        "colab": {}
      },
      "source": [
        "prediction_LR=model_LR.predict(X_test)"
      ],
      "execution_count": 0,
      "outputs": []
    },
    {
      "cell_type": "code",
      "metadata": {
        "id": "nEaqg9mif81u",
        "colab_type": "code",
        "outputId": "87650a06-6095-4bab-d05c-ecdbd0a29a9b",
        "colab": {
          "base_uri": "https://localhost:8080/",
          "height": 313
        }
      },
      "source": [
        "from matplotlib import pyplot as plt\n",
        "plt.scatter(y_test, prediction_LR, c='g')\n",
        "plt.xlabel('Average surface temperature')\n",
        "plt.ylabel('Predicted surface temperature')\n",
        "plt.title('Linear regression')"
      ],
      "execution_count": 0,
      "outputs": [
        {
          "output_type": "execute_result",
          "data": {
            "text/plain": [
              "Text(0.5, 1.0, 'Linear regression')"
            ]
          },
          "metadata": {
            "tags": []
          },
          "execution_count": 61
        },
        {
          "output_type": "display_data",
          "data": {
            "image/png": "[encoded data removed]",
            "text/plain": [
              "<Figure size 432x288 with 1 Axes>"
            ]
          },
          "metadata": {
            "tags": []
          }
        }
      ]
    },
    {
      "cell_type": "code",
      "metadata": {
        "id": "BpnGx3Yrx472",
        "colab_type": "code",
        "outputId": "53d2cfd0-7dbe-4e6a-94bc-32dbe33898bc",
        "colab": {
          "base_uri": "https://localhost:8080/",
          "height": 313
        }
      },
      "source": [
        "plt.plot(t, y_test, 'bs', t, prediction_LR, 'g^')\n",
        "plt.xlabel('Time (h)')\n",
        "plt.ylabel('Surface temperature')\n",
        "plt.title('Linear regression')\n",
        "plt.legend(['True value', 'Prediction'])"
      ],
      "execution_count": 0,
      "outputs": [
        {
          "output_type": "execute_result",
          "data": {
            "text/plain": [
              "<matplotlib.legend.Legend at 0x7f3cc29507b8>"
            ]
          },
          "metadata": {
            "tags": []
          },
          "execution_count": 62
        },
        {
          "output_type": "display_data",
          "data": {
            "image/png": "[encoded data removed]",
            "text/plain": [
              "<Figure size 432x288 with 1 Axes>"
            ]
          },
          "metadata": {
            "tags": []
          }
        }
      ]
    },
    {
      "cell_type": "code",
      "metadata": {
        "id": "zw97JhZlgMHf",
        "colab_type": "code",
        "outputId": "38f4836a-1702-47c3-916f-ae887a89a244",
        "colab": {
          "base_uri": "https://localhost:8080/",
          "height": 69
        }
      },
      "source": [
        "#MAE\n",
        "print(metrics.mean_absolute_error(y_test, prediction_LR))\n",
        "\n",
        "#MSE\n",
        "print(metrics.mean_squared_error(y_test, prediction_LR))\n",
        "\n",
        "#RMSE\n",
        "print(np.sqrt(metrics.mean_squared_error(y_test, prediction_LR)))"
      ],
      "execution_count": 0,
      "outputs": [
        {
          "output_type": "stream",
          "text": [
            "0.14333901652655948\n",
            "0.051591688232233285\n",
            "0.22713803783653957\n"
          ],
          "name": "stdout"
        }
      ]
    },
    {
      "cell_type": "code",
      "metadata": {
        "id": "fG2GDEBIgSr1",
        "colab_type": "code",
        "outputId": "5533b6d4-e452-43fb-f9e7-e46a6393f81e",
        "colab": {
          "base_uri": "https://localhost:8080/",
          "height": 35
        }
      },
      "source": [
        "model_LR.score(X_test, y_test)"
      ],
      "execution_count": 0,
      "outputs": [
        {
          "output_type": "execute_result",
          "data": {
            "text/plain": [
              "0.9989416586892924"
            ]
          },
          "metadata": {
            "tags": []
          },
          "execution_count": 60
        }
      ]
    },
    {
      "cell_type": "code",
      "metadata": {
        "id": "4AgCLxDAgd__",
        "colab_type": "code",
        "colab": {}
      },
      "source": [
        "from sklearn.neural_network import MLPRegressor\n",
        "\n",
        "model_mlpr = MLPRegressor()\n",
        "fit=model_mlpr.fit(X_train, y_train)"
      ],
      "execution_count": 0,
      "outputs": []
    },
    {
      "cell_type": "code",
      "metadata": {
        "id": "xf3tjc7Eh5jq",
        "colab_type": "code",
        "colab": {}
      },
      "source": [
        "prediction_mlpr=model_mlpr.predict(X_test)"
      ],
      "execution_count": 0,
      "outputs": []
    },
    {
      "cell_type": "code",
      "metadata": {
        "id": "NQCsJScIiGqd",
        "colab_type": "code",
        "outputId": "3ee9cbf6-b2f6-4812-d1d2-1a3080615e7d",
        "colab": {
          "base_uri": "https://localhost:8080/",
          "height": 313
        }
      },
      "source": [
        "from matplotlib import pyplot as plt\n",
        "plt.plot(y_test, prediction_mlpr, 'g')\n",
        "plt.xlabel('Average surface temperature')\n",
        "plt.ylabel('Predicted surface temperature')\n",
        "plt.title('Multi-layer perceptron regressor')"
      ],
      "execution_count": 0,
      "outputs": [
        {
          "output_type": "execute_result",
          "data": {
            "text/plain": [
              "Text(0.5, 1.0, 'Multi-layer perceptron regressor')"
            ]
          },
          "metadata": {
            "tags": []
          },
          "execution_count": 67
        },
        {
          "output_type": "display_data",
          "data": {
            "image/png": "[encoded data removed]",
            "text/plain": [
              "<Figure size 432x288 with 1 Axes>"
            ]
          },
          "metadata": {
            "tags": []
          }
        }
      ]
    },
    {
      "cell_type": "code",
      "metadata": {
        "id": "iiqUSogUyvHJ",
        "colab_type": "code",
        "outputId": "ff1e2716-d807-4493-bd73-4c5c72cd1afb",
        "colab": {
          "base_uri": "https://localhost:8080/",
          "height": 313
        }
      },
      "source": [
        "plt.plot(t, y_test, 'bs', t, prediction_mlpr, 'g^')\n",
        "plt.xlabel('Time (h)')\n",
        "plt.ylabel('Surface temperature')\n",
        "plt.title('Multi-layer perceptron regressor')\n",
        "plt.legend(['True value', 'Prediction'])"
      ],
      "execution_count": 0,
      "outputs": [
        {
          "output_type": "execute_result",
          "data": {
            "text/plain": [
              "<matplotlib.legend.Legend at 0x7f3cc2788978>"
            ]
          },
          "metadata": {
            "tags": []
          },
          "execution_count": 68
        },
        {
          "output_type": "display_data",
          "data": {
            "image/png": "[encoded data removed]",
            "text/plain": [
              "<Figure size 432x288 with 1 Axes>"
            ]
          },
          "metadata": {
            "tags": []
          }
        }
      ]
    },
    {
      "cell_type": "code",
      "metadata": {
        "id": "l03CYIeaizhf",
        "colab_type": "code",
        "outputId": "ded0f9a6-7e39-4c4e-f419-b1425141b506",
        "colab": {
          "base_uri": "https://localhost:8080/",
          "height": 69
        }
      },
      "source": [
        "#MAE\n",
        "print(metrics.mean_absolute_error(y_test, prediction_mlpr))\n",
        "\n",
        "#MSE\n",
        "print(metrics.mean_squared_error(y_test, prediction_mlpr))\n",
        "\n",
        "#RMSE\n",
        "print(np.sqrt(metrics.mean_squared_error(y_test, prediction_mlpr)))"
      ],
      "execution_count": 0,
      "outputs": [
        {
          "output_type": "stream",
          "text": [
            "0.5265927290140558\n",
            "0.3791307946012548\n",
            "0.6157359779980822\n"
          ],
          "name": "stdout"
        }
      ]
    },
    {
      "cell_type": "code",
      "metadata": {
        "id": "Fs-XkR4Mi7hQ",
        "colab_type": "code",
        "outputId": "cbe4217b-dd4d-4414-d0d5-f0aaaffbed6a",
        "colab": {
          "base_uri": "https://localhost:8080/",
          "height": 35
        }
      },
      "source": [
        "model_mlpr.score(X_test, y_test)"
      ],
      "execution_count": 0,
      "outputs": [
        {
          "output_type": "execute_result",
          "data": {
            "text/plain": [
              "0.9922225886409891"
            ]
          },
          "metadata": {
            "tags": []
          },
          "execution_count": 70
        }
      ]
    },
    {
      "cell_type": "code",
      "metadata": {
        "id": "G3OLnPROjfbr",
        "colab_type": "code",
        "colab": {}
      },
      "source": [
        "from sklearn.ensemble import BaggingRegressor\n",
        "\n",
        "model_bg=BaggingRegressor()\n",
        "fit=model_bg.fit(X_train, y_train)\n",
        "prediction_bg=model_bg.predict(X_test)"
      ],
      "execution_count": 0,
      "outputs": []
    },
    {
      "cell_type": "code",
      "metadata": {
        "id": "2gA6QTwNlFM3",
        "colab_type": "code",
        "colab": {}
      },
      "source": [
        "from matplotlib import pyplot as plt\n",
        "plt.plot(t, y_test, 'bs', t, prediction_bg, 'g^')\n",
        "plt.xlabel('Samples')\n",
        "plt.ylabel('prediction')\n",
        "plt.title('Bagging regressor')"
      ],
      "execution_count": 0,
      "outputs": []
    },
    {
      "cell_type": "code",
      "metadata": {
        "id": "JeutVFWElZ_D",
        "colab_type": "code",
        "colab": {}
      },
      "source": [
        "#MAE\n",
        "print(metrics.mean_absolute_error(y_test, prediction_bg))\n",
        "\n",
        "#MSE\n",
        "print(metrics.mean_squared_error(y_test, prediction_bg))\n",
        "\n",
        "#RMSE\n",
        "print(np.sqrt(metrics.mean_squared_error(y_test, prediction_bg)))"
      ],
      "execution_count": 0,
      "outputs": []
    },
    {
      "cell_type": "code",
      "metadata": {
        "id": "9z4yxSpZnD2h",
        "colab_type": "code",
        "colab": {}
      },
      "source": [
        "model_bg.score(X_test, y_test)"
      ],
      "execution_count": 0,
      "outputs": []
    },
    {
      "cell_type": "code",
      "metadata": {
        "id": "LxHAeLLlotFX",
        "colab_type": "code",
        "colab": {}
      },
      "source": [
        "from sklearn.neighbors import KNeighborsRegressor\n",
        "\n",
        "model_knr = KNeighborsRegressor(n_neighbors=2)\n",
        "fit=model_knr.fit(X_train, y_train)\n",
        "prediction_knr=model_knr.predict(X_test)\n"
      ],
      "execution_count": 0,
      "outputs": []
    },
    {
      "cell_type": "code",
      "metadata": {
        "id": "w5XTQJ96pFtR",
        "colab_type": "code",
        "outputId": "a24ba389-8e9f-49fa-b2cc-a14f2f7a6a67",
        "colab": {
          "base_uri": "https://localhost:8080/",
          "height": 313
        }
      },
      "source": [
        "from matplotlib import pyplot as plt\n",
        "plt.plot(y_test, prediction_knr, 'g')\n",
        "plt.xlabel('Average surface temperature')\n",
        "plt.ylabel('Predicted surface temperature')\n",
        "plt.title('Kneighbors regressor')"
      ],
      "execution_count": 0,
      "outputs": [
        {
          "output_type": "execute_result",
          "data": {
            "text/plain": [
              "Text(0.5, 1.0, 'Kneighbors regressor')"
            ]
          },
          "metadata": {
            "tags": []
          },
          "execution_count": 74
        },
        {
          "output_type": "display_data",
          "data": {
            "image/png": "[encoded data removed]",
            "text/plain": [
              "<Figure size 432x288 with 1 Axes>"
            ]
          },
          "metadata": {
            "tags": []
          }
        }
      ]
    },
    {
      "cell_type": "code",
      "metadata": {
        "id": "KV_PMCJDzah1",
        "colab_type": "code",
        "outputId": "d2bc1780-5ca5-4b8c-8e24-ad109a28a8c5",
        "colab": {
          "base_uri": "https://localhost:8080/",
          "height": 313
        }
      },
      "source": [
        "plt.plot(t, y_test, 'bs', t, prediction_knr, 'g^')\n",
        "plt.xlabel('Time (h)')\n",
        "plt.ylabel('Surface temperature')\n",
        "plt.title('Kneighbors regressor')\n",
        "plt.legend(['True value', 'Prediction'])"
      ],
      "execution_count": 0,
      "outputs": [
        {
          "output_type": "execute_result",
          "data": {
            "text/plain": [
              "<matplotlib.legend.Legend at 0x7f3cc17e5668>"
            ]
          },
          "metadata": {
            "tags": []
          },
          "execution_count": 76
        },
        {
          "output_type": "display_data",
          "data": {
            "image/png": "[encoded data removed]",
            "text/plain": [
              "<Figure size 432x288 with 1 Axes>"
            ]
          },
          "metadata": {
            "tags": []
          }
        }
      ]
    },
    {
      "cell_type": "code",
      "metadata": {
        "id": "KdiIOunBpPqb",
        "colab_type": "code",
        "outputId": "2ae11a51-7d3d-4c1c-bfa7-38053360b10a",
        "colab": {
          "base_uri": "https://localhost:8080/",
          "height": 69
        }
      },
      "source": [
        "#MAE\n",
        "print(metrics.mean_absolute_error(y_test, prediction_knr))\n",
        "\n",
        "#MSE\n",
        "print(metrics.mean_squared_error(y_test, prediction_knr))\n",
        "\n",
        "#RMSE\n",
        "print(np.sqrt(metrics.mean_squared_error(y_test, prediction_knr)))"
      ],
      "execution_count": 0,
      "outputs": [
        {
          "output_type": "stream",
          "text": [
            "0.01498114811729588\n",
            "0.0006578543648416338\n",
            "0.02564867179488314\n"
          ],
          "name": "stdout"
        }
      ]
    },
    {
      "cell_type": "code",
      "metadata": {
        "id": "eJSRuSJbpUaB",
        "colab_type": "code",
        "outputId": "71fa766c-8460-4c89-eee0-4bdc79b0b911",
        "colab": {
          "base_uri": "https://localhost:8080/",
          "height": 35
        }
      },
      "source": [
        "model_knr.score(X_test, y_test)"
      ],
      "execution_count": 0,
      "outputs": [
        {
          "output_type": "execute_result",
          "data": {
            "text/plain": [
              "0.9999865049104887"
            ]
          },
          "metadata": {
            "tags": []
          },
          "execution_count": 81
        }
      ]
    },
    {
      "cell_type": "code",
      "metadata": {
        "id": "jo5YHgJPpaUp",
        "colab_type": "code",
        "colab": {}
      },
      "source": [
        "from sklearn.linear_model import HuberRegressor\n",
        "\n",
        "model_hu = HuberRegressor()\n",
        "s_train, s_test, t_train, t_test = train_test_split(source, target, test_size=0.2)\n",
        "\n",
        "fit=model_hu.fit(s_train, t_train)\n",
        "prediction_hu=model_hu.predict(s_test)\n"
      ],
      "execution_count": 0,
      "outputs": []
    },
    {
      "cell_type": "code",
      "metadata": {
        "id": "8n7wNczyt4wd",
        "colab_type": "code",
        "colab": {}
      },
      "source": [
        "from matplotlib import pyplot as plt\n",
        "plt.plot(t, t_test, 'bs', t, prediction_hu, 'g^')\n",
        "plt.xlabel('Samples')\n",
        "plt.ylabel('prediction')\n",
        "plt.title('Huber regressor')"
      ],
      "execution_count": 0,
      "outputs": []
    },
    {
      "cell_type": "code",
      "metadata": {
        "id": "d-XyTXU8uRi0",
        "colab_type": "code",
        "colab": {}
      },
      "source": [
        "#MAE\n",
        "print(metrics.mean_absolute_error(t_test, prediction_hu))\n",
        "\n",
        "#MSE\n",
        "print(metrics.mean_squared_error(t_test, prediction_hu))\n",
        "\n",
        "#RMSE\n",
        "print(np.sqrt(metrics.mean_squared_error(t_test, prediction_hu)))"
      ],
      "execution_count": 0,
      "outputs": []
    },
    {
      "cell_type": "code",
      "metadata": {
        "id": "rUoJBWKvuYyn",
        "colab_type": "code",
        "colab": {}
      },
      "source": [
        "model_hu.score(s_test, t_test)"
      ],
      "execution_count": 0,
      "outputs": []
    },
    {
      "cell_type": "code",
      "metadata": {
        "id": "xfI6GjuXwOvg",
        "colab_type": "code",
        "colab": {}
      },
      "source": [
        "from sklearn.linear_model import BayesianRidge\n",
        "\n",
        "model_br = BayesianRidge()\n",
        "fit=model_br.fit(X_train, y_train)\n",
        "prediction_br=model_br.predict(X_test)"
      ],
      "execution_count": 0,
      "outputs": []
    },
    {
      "cell_type": "code",
      "metadata": {
        "id": "eHSfO12UwpzD",
        "colab_type": "code",
        "outputId": "68c60e8f-8411-4f0a-874b-625706cd710e",
        "colab": {
          "base_uri": "https://localhost:8080/",
          "height": 235
        }
      },
      "source": [
        "from matplotlib import pyplot as plt\n",
        "plt.plot(t, y_test, 'bs', t, prediction_br, 'g^')\n",
        "plt.xlabel('Samples')\n",
        "plt.ylabel('prediction')\n",
        "plt.title('BeysianRidge regressor')"
      ],
      "execution_count": 0,
      "outputs": [
        {
          "output_type": "error",
          "ename": "NameError",
          "evalue": "ignored",
          "traceback": [
            "\u001b[0;31m---------------------------------------------------------------------------\u001b[0m",
            "\u001b[0;31mNameError\u001b[0m                                 Traceback (most recent call last)",
            "\u001b[0;32m<ipython-input-6-10d467c71b1f>\u001b[0m in \u001b[0;36m<module>\u001b[0;34m()\u001b[0m\n\u001b[1;32m      1\u001b[0m \u001b[0;32mfrom\u001b[0m \u001b[0mmatplotlib\u001b[0m \u001b[0;32mimport\u001b[0m \u001b[0mpyplot\u001b[0m \u001b[0;32mas\u001b[0m \u001b[0mplt\u001b[0m\u001b[0;34m\u001b[0m\u001b[0;34m\u001b[0m\u001b[0m\n\u001b[0;32m----> 2\u001b[0;31m \u001b[0mplt\u001b[0m\u001b[0;34m.\u001b[0m\u001b[0mplot\u001b[0m\u001b[0;34m(\u001b[0m\u001b[0mt\u001b[0m\u001b[0;34m,\u001b[0m \u001b[0my_test\u001b[0m\u001b[0;34m,\u001b[0m \u001b[0;34m'bs'\u001b[0m\u001b[0;34m,\u001b[0m \u001b[0mt\u001b[0m\u001b[0;34m,\u001b[0m \u001b[0mprediction_br\u001b[0m\u001b[0;34m,\u001b[0m \u001b[0;34m'g^'\u001b[0m\u001b[0;34m)\u001b[0m\u001b[0;34m\u001b[0m\u001b[0;34m\u001b[0m\u001b[0m\n\u001b[0m\u001b[1;32m      3\u001b[0m \u001b[0mplt\u001b[0m\u001b[0;34m.\u001b[0m\u001b[0mxlabel\u001b[0m\u001b[0;34m(\u001b[0m\u001b[0;34m'Samples'\u001b[0m\u001b[0;34m)\u001b[0m\u001b[0;34m\u001b[0m\u001b[0;34m\u001b[0m\u001b[0m\n\u001b[1;32m      4\u001b[0m \u001b[0mplt\u001b[0m\u001b[0;34m.\u001b[0m\u001b[0mylabel\u001b[0m\u001b[0;34m(\u001b[0m\u001b[0;34m'prediction'\u001b[0m\u001b[0;34m)\u001b[0m\u001b[0;34m\u001b[0m\u001b[0;34m\u001b[0m\u001b[0m\n\u001b[1;32m      5\u001b[0m \u001b[0mplt\u001b[0m\u001b[0;34m.\u001b[0m\u001b[0mtitle\u001b[0m\u001b[0;34m(\u001b[0m\u001b[0;34m'BeysianRidge regressor'\u001b[0m\u001b[0;34m)\u001b[0m\u001b[0;34m\u001b[0m\u001b[0;34m\u001b[0m\u001b[0m\n",
            "\u001b[0;31mNameError\u001b[0m: name 't' is not defined"
          ]
        }
      ]
    },
    {
      "cell_type": "code",
      "metadata": {
        "id": "0VuoiOQuw4G1",
        "colab_type": "code",
        "colab": {}
      },
      "source": [
        "#MAE\n",
        "print(metrics.mean_absolute_error(y_test, prediction_br))\n",
        "\n",
        "#MSE\n",
        "print(metrics.mean_squared_error(y_test, prediction_br))\n",
        "\n",
        "#RMSE\n",
        "print(np.sqrt(metrics.mean_squared_error(y_test, prediction_br)))"
      ],
      "execution_count": 0,
      "outputs": []
    },
    {
      "cell_type": "code",
      "metadata": {
        "id": "IACq_Fz1xC3P",
        "colab_type": "code",
        "colab": {}
      },
      "source": [
        "model_br.score(X_test, y_test)"
      ],
      "execution_count": 0,
      "outputs": []
    },
    {
      "cell_type": "code",
      "metadata": {
        "id": "NqrtdA_uIxrN",
        "colab_type": "code",
        "colab": {}
      },
      "source": [
        "from datetime import datetime\n",
        "\n",
        "date = pd.to_datetime(\"1st of October, 2018\")\n",
        "date=date + pd.to_timedelta(np.arange(8761), 'h')\n",
        "\n"
      ],
      "execution_count": 0,
      "outputs": []
    },
    {
      "cell_type": "code",
      "metadata": {
        "id": "pUckQoZWI94i",
        "colab_type": "code",
        "outputId": "597f839e-eb43-432b-caa7-453b48c5090e",
        "colab": {
          "base_uri": "https://localhost:8080/",
          "height": 313
        }
      },
      "source": [
        "plt.plot(date, df1, 'g')\n",
        "plt.xlabel('Time (h)')\n",
        "plt.ylabel('Air temperature')\n",
        "plt.title('Helsinki')"
      ],
      "execution_count": 0,
      "outputs": [
        {
          "output_type": "execute_result",
          "data": {
            "text/plain": [
              "Text(0.5, 1.0, 'Helsinki')"
            ]
          },
          "metadata": {
            "tags": []
          },
          "execution_count": 80
        },
        {
          "output_type": "display_data",
          "data": {
            "image/png": "[encoded data removed]",
            "text/plain": [
              "<Figure size 432x288 with 1 Axes>"
            ]
          },
          "metadata": {
            "tags": []
          }
        }
      ]
    },
    {
      "cell_type": "code",
      "metadata": {
        "id": "qjO0nOk8J2Fj",
        "colab_type": "code",
        "colab": {}
      },
      "source": [
        "import pandas as pd\n",
        "url = 'https://raw.githubusercontent.com/hmk88/Learn_Data_Science/master/inlet.csv'\n",
        "inlet1 = pd.read_csv(url)    #Air temperature\n",
        "inlet1= inlet1.drop('Time (h)', axis=1)"
      ],
      "execution_count": 0,
      "outputs": []
    },
    {
      "cell_type": "code",
      "metadata": {
        "id": "2xiIlv0LKBfA",
        "colab_type": "code",
        "colab": {}
      },
      "source": [
        "inlet2= inlet1"
      ],
      "execution_count": 0,
      "outputs": []
    },
    {
      "cell_type": "code",
      "metadata": {
        "id": "mmWMi1ehKDgv",
        "colab_type": "code",
        "colab": {}
      },
      "source": [
        "inlet = pd.concat([inlet1, inlet2])"
      ],
      "execution_count": 0,
      "outputs": []
    },
    {
      "cell_type": "code",
      "metadata": {
        "id": "ypxVs9rhKLpZ",
        "colab_type": "code",
        "colab": {}
      },
      "source": [
        "inlet"
      ],
      "execution_count": 0,
      "outputs": []
    },
    {
      "cell_type": "code",
      "metadata": {
        "id": "1epbIj5CLTul",
        "colab_type": "code",
        "colab": {}
      },
      "source": [
        "from google.colab import files\n",
        "inlet.to_csv('inlet.csv') \n",
        "files.download('inlet.csv')"
      ],
      "execution_count": 0,
      "outputs": []
    },
    {
      "cell_type": "code",
      "metadata": {
        "id": "B8AZRre6DU6W",
        "colab_type": "code",
        "colab": {}
      },
      "source": [
        "import pandas as pd\n",
        "url = 'https://raw.githubusercontent.com/hmk88/Learn_Data_Science/master/data-USstates/as(t).csv'\n",
        "df1 = pd.read_csv(url)    #Air temperature\n",
        "df1= df1.drop('Time (h)', axis=1)"
      ],
      "execution_count": 0,
      "outputs": []
    },
    {
      "cell_type": "code",
      "metadata": {
        "id": "knMfKN8cD4nD",
        "colab_type": "code",
        "outputId": "a78732a6-e04a-47ba-9ab7-911c75156ae1",
        "colab": {
          "base_uri": "https://localhost:8080/",
          "height": 35
        }
      },
      "source": [
        "df1.shape"
      ],
      "execution_count": 0,
      "outputs": [
        {
          "output_type": "execute_result",
          "data": {
            "text/plain": [
              "(8762, 1)"
            ]
          },
          "metadata": {
            "tags": []
          },
          "execution_count": 4
        }
      ]
    },
    {
      "cell_type": "code",
      "metadata": {
        "id": "FCoY-g-RDhfr",
        "colab_type": "code",
        "colab": {}
      },
      "source": [
        "url = 'https://raw.githubusercontent.com/hmk88/Learn_Data_Science/master/as_inlet.csv'\n",
        "df2 = pd.read_csv(url)    #Average surface temperature\n",
        "df2= df2.drop('Time (h)', axis=1)"
      ],
      "execution_count": 0,
      "outputs": []
    },
    {
      "cell_type": "code",
      "metadata": {
        "id": "SdDUjO3tD0JZ",
        "colab_type": "code",
        "outputId": "d9b6cc1e-d696-4075-8b4a-13e594a56dda",
        "colab": {
          "base_uri": "https://localhost:8080/",
          "height": 35
        }
      },
      "source": [
        "df2.shape"
      ],
      "execution_count": 0,
      "outputs": [
        {
          "output_type": "execute_result",
          "data": {
            "text/plain": [
              "(8762, 1)"
            ]
          },
          "metadata": {
            "tags": []
          },
          "execution_count": 12
        }
      ]
    },
    {
      "cell_type": "code",
      "metadata": {
        "id": "A8q_Fn9uD3Ai",
        "colab_type": "code",
        "colab": {}
      },
      "source": [
        "from datetime import datetime\n",
        "import numpy as np\n",
        "\n",
        "date = pd.to_datetime(\"1st of October, 2018\")\n",
        "date=date + pd.to_timedelta(np.arange(8762), 'h')"
      ],
      "execution_count": 0,
      "outputs": []
    },
    {
      "cell_type": "code",
      "metadata": {
        "id": "PnETMO2UUItz",
        "colab_type": "code",
        "colab": {}
      },
      "source": [
        "from dateutil.parser import parse \n",
        "import matplotlib as mpl\n",
        "import matplotlib.pyplot as plt\n",
        "import seaborn as sns\n",
        "import numpy as np\n",
        "import pandas as pd"
      ],
      "execution_count": 0,
      "outputs": []
    },
    {
      "cell_type": "code",
      "metadata": {
        "id": "BpmFBuMac4DG",
        "colab_type": "code",
        "colab": {}
      },
      "source": [
        "df1['dates'] = date\n",
        "df2['dates'] = date"
      ],
      "execution_count": 0,
      "outputs": []
    },
    {
      "cell_type": "code",
      "metadata": {
        "id": "fjsg1TbfUTVU",
        "colab_type": "code",
        "outputId": "6870674e-9750-4330-b91e-682a9f22be44",
        "colab": {
          "base_uri": "https://localhost:8080/",
          "height": 310
        }
      },
      "source": [
        "df1['year'] = [d.strftime('%b') for d in df1.dates]\n",
        "df2['month'] = [d.strftime('%b') for d in df2.dates]\n",
        "#years = df['year'].unique()\n",
        "\n",
        "# Draw Plot\n",
        "\n",
        "fig, axes = plt.subplots(1, 2, figsize=(16,4), dpi= 80)\n",
        "sns.boxplot(x='year', y='Temperature (degC)', data=df1, ax=axes[0])\n",
        "sns.boxplot(x='month', y='Temperature (de  gC)', data=df2)\n",
        "\n",
        "# Set Title\n",
        "#axes[0].set_title('Average surface temperature\\n(Constant inlet temperature)', fontsize=18); \n",
        "#axes[1].set_title('Average surface temperature\\n(With inlet temperature variation)', fontsize=18)\n",
        "plt.show()"
      ],
      "execution_count": 0,
      "outputs": [
        {
          "output_type": "display_data",
          "data": {
            "image/png": "[encoded data removed]",
            "text/plain": [
              "<Figure size 1280x320 with 2 Axes>"
            ]
          },
          "metadata": {
            "tags": []
          }
        }
      ]
    },
    {
      "cell_type": "code",
      "metadata": {
        "id": "ZB7CpAvAE8Gg",
        "colab_type": "code",
        "outputId": "56ed2f50-732f-4e31-ef25-02a8c8050978",
        "colab": {
          "base_uri": "https://localhost:8080/",
          "height": 425
        }
      },
      "source": [
        "from matplotlib import pyplot as plt\n",
        "plt.plot(date, df1, 'g', date, df2, 'b')\n",
        "plt.xlabel('Time (h)')\n",
        "plt.ylabel('Average surface temperature')\n",
        "#plt.title('Helsinki')\n",
        "plt.legend(['With air temperature variation', 'Without air temperature variation'])"
      ],
      "execution_count": 0,
      "outputs": [
        {
          "output_type": "stream",
          "text": [
            "/usr/local/lib/python3.6/dist-packages/pandas/plotting/_converter.py:129: FutureWarning: Using an implicitly registered datetime converter for a matplotlib plotting method. The converter was registered by pandas on import. Future versions of pandas will require you to explicitly register matplotlib converters.\n",
            "\n",
            "To register the converters:\n",
            "\t>>> from pandas.plotting import register_matplotlib_converters\n",
            "\t>>> register_matplotlib_converters()\n",
            "  warnings.warn(msg, FutureWarning)\n"
          ],
          "name": "stderr"
        },
        {
          "output_type": "execute_result",
          "data": {
            "text/plain": [
              "<matplotlib.legend.Legend at 0x7fec1afba4e0>"
            ]
          },
          "metadata": {
            "tags": []
          },
          "execution_count": 7
        },
        {
          "output_type": "display_data",
          "data": {
            "image/png": "[encoded data removed]",
            "text/plain": [
              "<Figure size 432x288 with 1 Axes>"
            ]
          },
          "metadata": {
            "tags": []
          }
        }
      ]
    },
    {
      "cell_type": "code",
      "metadata": {
        "id": "Y0vJrTA1FFuJ",
        "colab_type": "code",
        "colab": {}
      },
      "source": [
        ""
      ],
      "execution_count": 0,
      "outputs": []
    },
    {
      "cell_type": "code",
      "metadata": {
        "id": "yhftGv23f7nU",
        "colab_type": "code",
        "colab": {}
      },
      "source": [
        "import pandas as pd\n",
        "\n",
        "url = 'https://raw.githubusercontent.com/hmk88/Learn_Data_Science/master/inlet_4140.csv'\n",
        "df = pd.read_csv(url)    #Average surface temperature\n",
        "df= df.drop('Time (h)', axis=1)"
      ],
      "execution_count": 0,
      "outputs": []
    },
    {
      "cell_type": "code",
      "metadata": {
        "id": "3OE-9zABgaAg",
        "colab_type": "code",
        "outputId": "e729f3a8-811e-49b8-d175-9af6c93cb9d7",
        "colab": {
          "base_uri": "https://localhost:8080/",
          "height": 297
        }
      },
      "source": [
        "from matplotlib import pyplot as plt\n",
        "plt.plot(df)\n",
        "plt.xlabel('Time (h)')\n",
        "plt.ylabel('Inlet temperature (degC)')"
      ],
      "execution_count": 0,
      "outputs": [
        {
          "output_type": "execute_result",
          "data": {
            "text/plain": [
              "Text(0, 0.5, 'Inlet temperature (degC)')"
            ]
          },
          "metadata": {
            "tags": []
          },
          "execution_count": 13
        },
        {
          "output_type": "display_data",
          "data": {
            "image/png": "[encoded data removed]",
            "text/plain": [
              "<Figure size 432x288 with 1 Axes>"
            ]
          },
          "metadata": {
            "tags": []
          }
        }
      ]
    },
    {
      "cell_type": "code",
      "metadata": {
        "id": "wrsW46Z7hCa1",
        "colab_type": "code",
        "colab": {}
      },
      "source": [
        "from statsmodels.nonparametric.smoothers_lowess import lowess\n",
        "# 1. Moving Average\n",
        "df_ma = df.(3, center=True, closed='both').mean()\n"
      ],
      "execution_count": 0,
      "outputs": []
    }
  ]
}